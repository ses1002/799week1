{
 "cells": [
  {
   "cell_type": "code",
   "execution_count": 1,
   "id": "c98cdd7c",
   "metadata": {},
   "outputs": [
    {
     "name": "stdout",
     "output_type": "stream",
     "text": [
      "Collecting ucimlrepo\n",
      "  Downloading ucimlrepo-0.0.7-py3-none-any.whl.metadata (5.5 kB)\n",
      "Requirement already satisfied: pandas>=1.0.0 in /home/codespace/.local/lib/python3.12/site-packages (from ucimlrepo) (2.2.3)\n",
      "Requirement already satisfied: certifi>=2020.12.5 in /home/codespace/.local/lib/python3.12/site-packages (from ucimlrepo) (2025.4.26)\n",
      "Requirement already satisfied: numpy>=1.26.0 in /home/codespace/.local/lib/python3.12/site-packages (from pandas>=1.0.0->ucimlrepo) (2.2.6)\n",
      "Requirement already satisfied: python-dateutil>=2.8.2 in /home/codespace/.local/lib/python3.12/site-packages (from pandas>=1.0.0->ucimlrepo) (2.9.0.post0)\n",
      "Requirement already satisfied: pytz>=2020.1 in /home/codespace/.local/lib/python3.12/site-packages (from pandas>=1.0.0->ucimlrepo) (2025.2)\n",
      "Requirement already satisfied: tzdata>=2022.7 in /home/codespace/.local/lib/python3.12/site-packages (from pandas>=1.0.0->ucimlrepo) (2025.2)\n",
      "Requirement already satisfied: six>=1.5 in /home/codespace/.local/lib/python3.12/site-packages (from python-dateutil>=2.8.2->pandas>=1.0.0->ucimlrepo) (1.17.0)\n",
      "Downloading ucimlrepo-0.0.7-py3-none-any.whl (8.0 kB)\n",
      "Installing collected packages: ucimlrepo\n",
      "Successfully installed ucimlrepo-0.0.7\n",
      "Note: you may need to restart the kernel to use updated packages.\n"
     ]
    }
   ],
   "source": [
    "pip install ucimlrepo"
   ]
  },
  {
   "cell_type": "code",
   "execution_count": 7,
   "id": "470900df",
   "metadata": {},
   "outputs": [
    {
     "name": "stdout",
     "output_type": "stream",
     "text": [
      "{'uci_id': 145, 'name': 'Statlog (Heart)', 'repository_url': 'https://archive.ics.uci.edu/dataset/145/statlog+heart', 'data_url': 'https://archive.ics.uci.edu/static/public/145/data.csv', 'abstract': 'This dataset is a heart disease database similar to a database already present in the repository (Heart Disease databases) but in a slightly different form', 'area': 'Health and Medicine', 'tasks': ['Classification'], 'characteristics': ['Multivariate'], 'num_instances': 270, 'num_features': 13, 'feature_types': ['Categorical', 'Real'], 'demographics': ['Age', 'Sex'], 'target_col': ['heart-disease'], 'index_col': None, 'has_missing_values': 'no', 'missing_values_symbol': None, 'year_of_dataset_creation': None, 'last_updated': 'Fri Feb 09 2024', 'dataset_doi': '10.24432/C57303', 'creators': [], 'intro_paper': None, 'additional_info': {'summary': 'Cost Matrix\\r\\n\\r\\n_______\\t abse  pres\\r\\nabsence\\t 0\\t1\\r\\npresence  5\\t0\\r\\n\\r\\nwhere the rows represent the true values and the columns the predicted.\\r\\n', 'purpose': None, 'funded_by': None, 'instances_represent': None, 'recommended_data_splits': None, 'sensitive_data': None, 'preprocessing_description': None, 'variable_info': '\\r\\nAttribute Information:\\r\\n------------------------\\r\\n      -- 1. age       \\r\\n      -- 2. sex       \\r\\n      -- 3. chest pain type  (4 values)       \\r\\n      -- 4. resting blood pressure  \\r\\n      -- 5. serum cholestoral in mg/dl      \\r\\n      -- 6. fasting blood sugar > 120 mg/dl       \\r\\n      -- 7. resting electrocardiographic results  (values 0,1,2) \\r\\n      -- 8. maximum heart rate achieved  \\r\\n      -- 9. exercise induced angina    \\r\\n      -- 10. oldpeak = ST depression induced by exercise relative to rest   \\r\\n      -- 11. the slope of the peak exercise ST segment     \\r\\n      -- 12. number of major vessels (0-3) colored by flourosopy        \\r\\n      -- 13.  thal: 3 = normal; 6 = fixed defect; 7 = reversable defect     \\r\\n\\r\\nAttributes types\\r\\n-----------------\\r\\n\\r\\nReal: 1,4,5,8,10,12\\r\\nOrdered:11,\\r\\nBinary: 2,6,9\\r\\nNominal:7,3,13\\r\\n\\r\\nVariable to be predicted\\r\\n------------------------\\r\\nAbsence (1) or presence (2) of heart disease\\r\\n', 'citation': None}}\n",
      "                    name     role         type demographic  \\\n",
      "0                    age  Feature   Continuous         Age   \n",
      "1                    sex  Feature       Binary         Sex   \n",
      "2             chest-pain  Feature  Categorical        None   \n",
      "3                rest-bp  Feature   Continuous        None   \n",
      "4             serum-chol  Feature   Continuous        None   \n",
      "5    fasting-blood-sugar  Feature       Binary        None   \n",
      "6   electrocardiographic  Feature  Categorical        None   \n",
      "7         max-heart-rate  Feature   Continuous        None   \n",
      "8                 angina  Feature       Binary        None   \n",
      "9                oldpeak  Feature   Continuous        None   \n",
      "10                 slope  Feature      Integer        None   \n",
      "11         major-vessels  Feature   Continuous        None   \n",
      "12                  thal  Feature  Categorical        None   \n",
      "13         heart-disease   Target      Integer        None   \n",
      "\n",
      "                                          description  units missing_values  \n",
      "0                                                None   None             no  \n",
      "1                                                None   None             no  \n",
      "2                                     chest pain type   None             no  \n",
      "3                              resting blood pressure   None             no  \n",
      "4                                   serum cholesterol  mg/dl             no  \n",
      "5                     fasting blood sugar > 120 mg/dl   None             no  \n",
      "6                resting electrocardiographic results   None             no  \n",
      "7                         maximum heart rate achieved   None             no  \n",
      "8                             exercise induced anigna   None             no  \n",
      "9   oldpeak = ST depression induced by exercise re...   None             no  \n",
      "10           the slope of the peak exercise ST sgment   None             no  \n",
      "11  number of major vessels (0-3) colored by fluor...   None             no  \n",
      "12  thal: 3 = normal; 6 = fixed defect; 7 = revers...   None             no  \n",
      "13                                               None   None             no  \n"
     ]
    }
   ],
   "source": [
    "from ucimlrepo import fetch_ucirepo \n",
    "  \n",
    "# fetch dataset \n",
    "statlog_heart = fetch_ucirepo(id=145) \n",
    "  \n",
    "# data (as pandas dataframes) \n",
    "X = statlog_heart.data.features \n",
    "y = statlog_heart.data.targets \n",
    "  \n",
    "# metadata \n",
    "print(statlog_heart.metadata) \n",
    "  \n",
    "# variable information \n",
    "print(statlog_heart.variables) \n"
   ]
  },
  {
   "cell_type": "code",
   "execution_count": 4,
   "id": "5dd8e740",
   "metadata": {},
   "outputs": [
    {
     "name": "stdout",
     "output_type": "stream",
     "text": [
      "Collecting statsmodels\n",
      "  Downloading statsmodels-0.14.4-cp312-cp312-manylinux_2_17_x86_64.manylinux2014_x86_64.whl.metadata (9.2 kB)\n",
      "Requirement already satisfied: numpy<3,>=1.22.3 in /home/codespace/.local/lib/python3.12/site-packages (from statsmodels) (2.2.6)\n",
      "Requirement already satisfied: scipy!=1.9.2,>=1.8 in /home/codespace/.local/lib/python3.12/site-packages (from statsmodels) (1.15.3)\n",
      "Requirement already satisfied: pandas!=2.1.0,>=1.4 in /home/codespace/.local/lib/python3.12/site-packages (from statsmodels) (2.2.3)\n",
      "Collecting patsy>=0.5.6 (from statsmodels)\n",
      "  Downloading patsy-1.0.1-py2.py3-none-any.whl.metadata (3.3 kB)\n",
      "Requirement already satisfied: packaging>=21.3 in /home/codespace/.local/lib/python3.12/site-packages (from statsmodels) (25.0)\n",
      "Requirement already satisfied: python-dateutil>=2.8.2 in /home/codespace/.local/lib/python3.12/site-packages (from pandas!=2.1.0,>=1.4->statsmodels) (2.9.0.post0)\n",
      "Requirement already satisfied: pytz>=2020.1 in /home/codespace/.local/lib/python3.12/site-packages (from pandas!=2.1.0,>=1.4->statsmodels) (2025.2)\n",
      "Requirement already satisfied: tzdata>=2022.7 in /home/codespace/.local/lib/python3.12/site-packages (from pandas!=2.1.0,>=1.4->statsmodels) (2025.2)\n",
      "Requirement already satisfied: six>=1.5 in /home/codespace/.local/lib/python3.12/site-packages (from python-dateutil>=2.8.2->pandas!=2.1.0,>=1.4->statsmodels) (1.17.0)\n",
      "Downloading statsmodels-0.14.4-cp312-cp312-manylinux_2_17_x86_64.manylinux2014_x86_64.whl (10.7 MB)\n",
      "\u001b[2K   \u001b[90m━━━━━━━━━━━━━━━━━━━━━━━━━━━━━━━━━━━━━━━━\u001b[0m \u001b[32m10.7/10.7 MB\u001b[0m \u001b[31m43.2 MB/s\u001b[0m eta \u001b[36m0:00:00\u001b[0m:00:01\u001b[0m\n",
      "\u001b[?25hDownloading patsy-1.0.1-py2.py3-none-any.whl (232 kB)\n",
      "Installing collected packages: patsy, statsmodels\n",
      "\u001b[2K   \u001b[90m━━━━━━━━━━━━━━━━━━━━━━━━━━━━━━━━━━━━━━━━\u001b[0m \u001b[32m2/2\u001b[0m [statsmodels]\u001b[0m [statsmodels]\n",
      "\u001b[1A\u001b[2KSuccessfully installed patsy-1.0.1 statsmodels-0.14.4\n",
      "Note: you may need to restart the kernel to use updated packages.\n"
     ]
    }
   ],
   "source": [
    "pip install statsmodels\n"
   ]
  },
  {
   "cell_type": "code",
   "execution_count": 5,
   "id": "7b0c5185",
   "metadata": {},
   "outputs": [],
   "source": [
    "import statsmodels.api as sm"
   ]
  },
  {
   "cell_type": "code",
   "execution_count": 8,
   "id": "e5540589",
   "metadata": {},
   "outputs": [
    {
     "name": "stdout",
     "output_type": "stream",
     "text": [
      "                            OLS Regression Results                            \n",
      "==============================================================================\n",
      "Dep. Variable:          heart-disease   R-squared:                       0.545\n",
      "Model:                            OLS   Adj. R-squared:                  0.522\n",
      "Method:                 Least Squares   F-statistic:                     23.61\n",
      "Date:                Tue, 01 Jul 2025   Prob (F-statistic):           8.96e-37\n",
      "Time:                        01:04:30   Log-Likelihood:                -87.906\n",
      "No. Observations:                 270   AIC:                             203.8\n",
      "Df Residuals:                     256   BIC:                             254.2\n",
      "Df Model:                          13                                         \n",
      "Covariance Type:            nonrobust                                         \n",
      "========================================================================================\n",
      "                           coef    std err          t      P>|t|      [0.025      0.975]\n",
      "----------------------------------------------------------------------------------------\n",
      "const                    0.5701      0.329      1.734      0.084      -0.077       1.217\n",
      "age                     -0.0019      0.003     -0.662      0.509      -0.007       0.004\n",
      "sex                      0.1594      0.051      3.102      0.002       0.058       0.261\n",
      "chest-pain               0.0939      0.025      3.737      0.000       0.044       0.143\n",
      "rest-bp                  0.0020      0.001      1.586      0.114      -0.000       0.005\n",
      "serum-chol               0.0006      0.000      1.375      0.170      -0.000       0.001\n",
      "fasting-blood-sugar     -0.0810      0.061     -1.321      0.188      -0.202       0.040\n",
      "electrocardiographic     0.0394      0.022      1.793      0.074      -0.004       0.083\n",
      "max-heart-rate          -0.0027      0.001     -2.339      0.020      -0.005      -0.000\n",
      "angina                   0.1152      0.052      2.210      0.028       0.013       0.218\n",
      "oldpeak                  0.0437      0.025      1.766      0.079      -0.005       0.092\n",
      "slope                    0.0476      0.046      1.045      0.297      -0.042       0.137\n",
      "major-vessels            0.1352      0.026      5.300      0.000       0.085       0.185\n",
      "thal                     0.0595      0.013      4.476      0.000       0.033       0.086\n",
      "==============================================================================\n",
      "Omnibus:                        5.607   Durbin-Watson:                   2.144\n",
      "Prob(Omnibus):                  0.061   Jarque-Bera (JB):                5.326\n",
      "Skew:                           0.331   Prob(JB):                       0.0697\n",
      "Kurtosis:                       3.191   Cond. No.                     5.14e+03\n",
      "==============================================================================\n",
      "\n",
      "Notes:\n",
      "[1] Standard Errors assume that the covariance matrix of the errors is correctly specified.\n",
      "[2] The condition number is large, 5.14e+03. This might indicate that there are\n",
      "strong multicollinearity or other numerical problems.\n"
     ]
    }
   ],
   "source": [
    "\n",
    "\n",
    "# Add a constant to create an intercept\n",
    "X_linear = sm.add_constant(X)\n",
    "\n",
    "# Fit the model\n",
    "model_linear = sm.OLS(y, X_linear)\n",
    "results_linear = model_linear.fit()\n",
    "\n",
    "# View the coefficients\n",
    "print(results_linear.summary())\n"
   ]
  },
  {
   "cell_type": "code",
   "execution_count": 9,
   "id": "f2c679fa",
   "metadata": {},
   "outputs": [
    {
     "name": "stdout",
     "output_type": "stream",
     "text": [
      "                            OLS Regression Results                            \n",
      "==============================================================================\n",
      "Dep. Variable:          heart-disease   R-squared:                       0.576\n",
      "Model:                            OLS   Adj. R-squared:                  0.536\n",
      "Method:                 Least Squares   F-statistic:                     14.51\n",
      "Date:                Tue, 01 Jul 2025   Prob (F-statistic):           6.32e-34\n",
      "Time:                        01:04:35   Log-Likelihood:                -78.579\n",
      "No. Observations:                 270   AIC:                             205.2\n",
      "Df Residuals:                     246   BIC:                             291.5\n",
      "Df Model:                          23                                         \n",
      "Covariance Type:            nonrobust                                         \n",
      "================================================================================================\n",
      "                                   coef    std err          t      P>|t|      [0.025      0.975]\n",
      "------------------------------------------------------------------------------------------------\n",
      "const                            1.6441      1.365      1.205      0.229      -1.044       4.332\n",
      "age                             -0.0113      0.024     -0.464      0.643      -0.060       0.037\n",
      "sex                              0.0767      0.026      2.909      0.004       0.025       0.129\n",
      "chest-pain                      -0.1137      0.144     -0.791      0.430      -0.397       0.169\n",
      "rest-bp                         -0.0027      0.012     -0.227      0.821      -0.027       0.021\n",
      "serum-chol                       0.0035      0.002      1.733      0.084      -0.000       0.007\n",
      "fasting-blood-sugar             -0.0233      0.031     -0.750      0.454      -0.085       0.038\n",
      "electrocardiographic             0.1662      0.512      0.324      0.746      -0.843       1.175\n",
      "max-heart-rate                  -0.0069      0.009     -0.738      0.461      -0.025       0.011\n",
      "angina                           0.0350      0.027      1.316      0.189      -0.017       0.087\n",
      "oldpeak                          0.0227      0.051      0.447      0.655      -0.077       0.123\n",
      "slope                            0.4478      0.218      2.057      0.041       0.019       0.877\n",
      "major-vessels                    0.3067      0.073      4.188      0.000       0.162       0.451\n",
      "thal                            -0.2703      0.325     -0.831      0.407      -0.911       0.371\n",
      "age_squared                   8.319e-05      0.000      0.370      0.711      -0.000       0.001\n",
      "sex_squared                      0.0767      0.026      2.909      0.004       0.025       0.129\n",
      "chest-pain_squared               0.0388      0.026      1.479      0.140      -0.013       0.091\n",
      "rest-bp_squared               1.784e-05   4.38e-05      0.407      0.684   -6.84e-05       0.000\n",
      "serum-chol_squared           -5.203e-06   3.51e-06     -1.482      0.140   -1.21e-05    1.71e-06\n",
      "fasting-blood-sugar_squared     -0.0233      0.031     -0.750      0.454      -0.085       0.038\n",
      "electrocardiographic_squared    -0.0647      0.256     -0.253      0.801      -0.569       0.439\n",
      "max-heart-rate_squared        1.598e-05   3.27e-05      0.489      0.625   -4.84e-05    8.03e-05\n",
      "angina_squared                   0.0350      0.027      1.316      0.189      -0.017       0.087\n",
      "oldpeak_squared                  0.0074      0.012      0.610      0.543      -0.017       0.031\n",
      "slope_squared                   -0.1111      0.060     -1.845      0.066      -0.230       0.008\n",
      "major-vessels_squared           -0.0727      0.027     -2.681      0.008      -0.126      -0.019\n",
      "thal_squared                     0.0329      0.033      1.010      0.313      -0.031       0.097\n",
      "==============================================================================\n",
      "Omnibus:                        6.369   Durbin-Watson:                   2.214\n",
      "Prob(Omnibus):                  0.041   Jarque-Bera (JB):                6.148\n",
      "Skew:                           0.322   Prob(JB):                       0.0462\n",
      "Kurtosis:                       3.362   Cond. No.                     1.07e+16\n",
      "==============================================================================\n",
      "\n",
      "Notes:\n",
      "[1] Standard Errors assume that the covariance matrix of the errors is correctly specified.\n",
      "[2] The smallest eigenvalue is 1.37e-20. This might indicate that there are\n",
      "strong multicollinearity problems or that the design matrix is singular.\n"
     ]
    }
   ],
   "source": [
    "import pandas as pd\n",
    "\n",
    "# For demonstration, let’s square each column\n",
    "X_square = X ** 2\n",
    "\n",
    "# Rename columns to avoid duplicates\n",
    "X_square.columns = [f\"{col}_squared\" for col in X_square.columns]\n",
    "\n",
    "# Combine original and squared features\n",
    "X_poly = pd.concat([X, X_square], axis=1)\n",
    "\n",
    "# Add constant for intercept\n",
    "X_poly = sm.add_constant(X_poly)\n",
    "\n",
    "# Fit the polynomial model\n",
    "model_poly = sm.OLS(y, X_poly)\n",
    "results_poly = model_poly.fit()\n",
    "\n",
    "# View the coefficients\n",
    "print(results_poly.summary())\n"
   ]
  }
 ],
 "metadata": {
  "kernelspec": {
   "display_name": "Python 3",
   "language": "python",
   "name": "python3"
  },
  "language_info": {
   "codemirror_mode": {
    "name": "ipython",
    "version": 3
   },
   "file_extension": ".py",
   "mimetype": "text/x-python",
   "name": "python",
   "nbconvert_exporter": "python",
   "pygments_lexer": "ipython3",
   "version": "3.12.1"
  }
 },
 "nbformat": 4,
 "nbformat_minor": 5
}
